{
 "cells": [
  {
   "cell_type": "code",
   "execution_count": 1,
   "metadata": {
    "collapsed": true
   },
   "outputs": [],
   "source": [
    "import numpy as np\n",
    "import pandas as pd\n",
    "from pandas import DataFrame as df\n",
    "from cylp.cy import CyClpSimplex\n",
    "from cylp.py.modeling.CyLPModel import CyLPArray, CyLPModel\n",
    "from solve_lp_for_year import solve_lp_for_year"
   ]
  },
  {
   "cell_type": "code",
   "execution_count": 2,
   "metadata": {
    "collapsed": true
   },
   "outputs": [],
   "source": [
    "puf = pd.read_csv(\"../puf_data/cps-matched-puf.csv\")\n",
    "Stage_I_factors = df.from_csv(\"../stage1/Stage_I_factors_transpose.csv\", index_col = 0)\n",
    "Stage_II_targets = df.from_csv(\"../stage1/Stage_II_targets.csv\", index_col= 0)"
   ]
  },
  {
   "cell_type": "code",
   "execution_count": 3,
   "metadata": {
    "collapsed": true
   },
   "outputs": [],
   "source": [
    "length = len(puf.s006)\n",
    "z = np.empty([length, 18])\n",
    "z[:,0] = puf.s006/100"
   ]
  },
  {
   "cell_type": "code",
   "execution_count": 4,
   "metadata": {},
   "outputs": [
    {
     "name": "stdout",
     "output_type": "stream",
     "text": [
      "Preparing coefficient matrix for year 2010 .....\n",
      "Preparing targets for year 2010 .....\n",
      "Targets for year 2010 are:\n",
      "[ -4.07251456e+07  -3.87764801e+07  -6.21551137e+06  -1.59559094e+07\n",
      "  -4.69050042e+07  -6.08371667e+10  -4.38144901e+10  -1.50007312e+11\n",
      "  -1.74627294e+10  -4.13254950e+10  -3.13814027e+11  -8.50895273e+10\n",
      "  -1.92222023e+10  -2.89890796e+11  -5.34057159e+10  -9.75414949e+09\n",
      "  -6.17168533e+10  -1.51563577e+11  -2.27465156e+11  -2.55988510e+11\n",
      "  -2.44124858e+11  -6.15006552e+11  -5.31430411e+11  -9.83385723e+11\n",
      "  -2.73732508e+11   5.20439712e+09   4.88495757e+10]\n",
      "Adding constraints for year 2010 .....\n"
     ]
    },
    {
     "name": "stderr",
     "output_type": "stream",
     "text": [
      "/anaconda/envs/py27/lib/python2.7/site-packages/cylp-0.7.1-py2.7-macosx-10.6-x86_64.egg/cylp/py/modeling/CyLPModel.py:372: FutureWarning: comparison to `None` will result in an elementwise object comparison in the future.\n",
      "  if left == None:\n",
      "/anaconda/envs/py27/lib/python2.7/site-packages/cylp-0.7.1-py2.7-macosx-10.6-x86_64.egg/cylp/py/utils/sparseUtil.py:388: FutureWarning: comparison to `None` will result in an elementwise object comparison in the future.\n",
      "  if b == None:\n",
      "/anaconda/envs/py27/lib/python2.7/site-packages/cylp-0.7.1-py2.7-macosx-10.6-x86_64.egg/cylp/py/utils/sparseUtil.py:387: FutureWarning: comparison to `None` will result in an elementwise object comparison in the future.\n",
      "  if a == None:\n",
      "/anaconda/envs/py27/lib/python2.7/site-packages/cylp-0.7.1-py2.7-macosx-10.6-x86_64.egg/cylp/py/utils/sparseUtil.py:391: FutureWarning: comparison to `None` will result in an elementwise object comparison in the future.\n",
      "  if b == None:\n",
      "/anaconda/envs/py27/lib/python2.7/site-packages/cylp-0.7.1-py2.7-macosx-10.6-x86_64.egg/cylp/py/modeling/CyLPModel.py:193: FutureWarning: comparison to `None` will result in an elementwise object comparison in the future.\n",
      "  if (other == None):\n",
      "/anaconda/envs/py27/lib/python2.7/site-packages/cylp-0.7.1-py2.7-macosx-10.6-x86_64.egg/cylp/py/modeling/CyLPModel.py:516: FutureWarning: comparison to `None` will result in an elementwise object comparison in the future.\n",
      "  if self.lower == None:\n"
     ]
    },
    {
     "name": "stdout",
     "output_type": "stream",
     "text": [
      "Setting up the LP model for year 2010 .....\n"
     ]
    },
    {
     "name": "stderr",
     "output_type": "stream",
     "text": [
      "solve_lp_for_year.py:199: FutureWarning: comparison to `None` will result in an elementwise object comparison in the future.\n",
      "  model = CyClpSimplex(LP)\n"
     ]
    },
    {
     "name": "stdout",
     "output_type": "stream",
     "text": [
      "Solving LP for year 2010 .....\n",
      "DONE solving LP for year 2010\n"
     ]
    }
   ],
   "source": [
    "z[:, 1] = solve_lp_for_year(puf, Stage_I_factors, Stage_II_targets, year='2010', tol=0.42)"
   ]
  },
  {
   "cell_type": "code",
   "execution_count": 6,
   "metadata": {},
   "outputs": [
    {
     "name": "stdout",
     "output_type": "stream",
     "text": [
      "Preparing coefficient matrix for year 2011 .....\n",
      "Preparing targets for year 2011 .....\n",
      "Targets for year 2011 are:\n",
      "[ -4.01875619e+07  -4.06352617e+07  -6.56326429e+06  -1.64488171e+07\n",
      "  -4.92097113e+07  -6.40988201e+10  -4.66873687e+10  -1.55827443e+11\n",
      "  -1.84619789e+10  -4.50832703e+10  -3.38372294e+11  -9.30201552e+10\n",
      "  -2.18209202e+10  -2.96247962e+11  -5.52055098e+10  -1.25062225e+10\n",
      "  -6.52722545e+10  -1.59757774e+11  -2.45044032e+11  -2.77931751e+11\n",
      "  -2.67816775e+11  -6.57317532e+11  -5.69322142e+11  -9.94444567e+11\n",
      "  -2.40157014e+11   1.86145051e+10   5.57416717e+10]\n",
      "Adding constraints for year 2011 .....\n",
      "Setting up the LP model for year 2011 .....\n",
      "Solving LP for year 2011 .....\n",
      "DONE solving LP for year 2011\n"
     ]
    }
   ],
   "source": [
    "z[:, 2] = solve_lp_for_year(puf, Stage_I_factors, Stage_II_targets, year='2011', tol=0.44)\n"
   ]
  },
  {
   "cell_type": "code",
   "execution_count": 9,
   "metadata": {},
   "outputs": [
    {
     "name": "stdout",
     "output_type": "stream",
     "text": [
      "Preparing coefficient matrix for year 2012 .....\n",
      "Preparing targets for year 2012 .....\n",
      "Targets for year 2012 are:\n",
      "[ -4.13648295e+07  -4.09425036e+07  -6.78874147e+06  -1.76443670e+07\n",
      "  -5.04720250e+07  -6.80439833e+10  -5.00142447e+10  -1.54308241e+11\n",
      "  -1.84333393e+10  -4.69535025e+10  -3.57287986e+11  -9.25491606e+10\n",
      "  -2.18105873e+10  -3.09151508e+11  -5.47733949e+10  -1.41869125e+10\n",
      "  -6.79671676e+10  -1.70522878e+11  -2.57865756e+11  -2.91904870e+11\n",
      "  -2.79426461e+11  -6.81516874e+11  -5.87201340e+11  -9.66997235e+11\n",
      "  -2.10527554e+11   3.80708258e+10   1.22547494e+11]\n",
      "Adding constraints for year 2012 .....\n",
      "Setting up the LP model for year 2012 .....\n",
      "Solving LP for year 2012 .....\n",
      "DONE solving LP for year 2012\n"
     ]
    }
   ],
   "source": [
    "z[:, 3] = solve_lp_for_year(puf, Stage_I_factors, Stage_II_targets, year='2012', tol=0.52)"
   ]
  },
  {
   "cell_type": "code",
   "execution_count": 21,
   "metadata": {},
   "outputs": [
    {
     "name": "stdout",
     "output_type": "stream",
     "text": [
      "Preparing coefficient matrix for year 2013 .....\n",
      "Preparing targets for year 2013 .....\n",
      "Targets for year 2013 are:\n",
      "[ -4.37858679e+07  -4.27813757e+07  -6.78367811e+06  -1.58091132e+07\n",
      "  -5.30277997e+07  -6.73864617e+10  -4.73863464e+10  -1.60975905e+11\n",
      "  -2.17756971e+10  -5.02784325e+10  -3.48925800e+11  -1.02084512e+11\n",
      "  -2.84385774e+10  -2.70057802e+11  -5.82411042e+10  -1.49364435e+10\n",
      "  -7.48618102e+10  -1.86393189e+11  -2.74936077e+11  -3.21854625e+11\n",
      "  -2.87964840e+11  -7.35848167e+11  -6.29773773e+11  -1.02552527e+12\n",
      "  -2.16831471e+11   4.09558828e+10   7.31960077e+10]\n",
      "Adding constraints for year 2013 .....\n",
      "Setting up the LP model for year 2013 .....\n",
      "Solving LP for year 2013 .....\n",
      "DONE solving LP for year 2013\n"
     ]
    }
   ],
   "source": [
    "z[:, 4] = solve_lp_for_year(puf, Stage_I_factors, Stage_II_targets, year='2013', tol=0.47)"
   ]
  },
  {
   "cell_type": "code",
   "execution_count": 23,
   "metadata": {},
   "outputs": [
    {
     "name": "stdout",
     "output_type": "stream",
     "text": [
      "Preparing coefficient matrix for year 2014 .....\n",
      "Preparing targets for year 2014 .....\n",
      "Targets for year 2014 are:\n",
      "[ -4.30377681e+07  -4.49474115e+07  -6.63572575e+06  -1.69372858e+07\n",
      "  -5.34474767e+07  -7.00667914e+10  -4.95781121e+10  -1.58664864e+11\n",
      "  -2.15566918e+10  -5.11094863e+10  -3.62857644e+11  -1.00129036e+11\n",
      "  -2.79206891e+10  -2.79236992e+11  -5.75650197e+10  -1.64485710e+10\n",
      "  -7.75656449e+10  -1.98688711e+11  -2.86579109e+11  -3.26095237e+11\n",
      "  -2.93596376e+11  -7.64554440e+11  -6.40194960e+11  -9.97383942e+11\n",
      "  -1.72863717e+11   6.43074430e+10   1.15206086e+11]\n",
      "Adding constraints for year 2014 .....\n",
      "Setting up the LP model for year 2014 .....\n",
      "Solving LP for year 2014 .....\n",
      "DONE solving LP for year 2014\n"
     ]
    }
   ],
   "source": [
    "z[:, 5] = solve_lp_for_year(puf, Stage_I_factors, Stage_II_targets, year='2014', tol=0.50)"
   ]
  },
  {
   "cell_type": "code",
   "execution_count": 30,
   "metadata": {},
   "outputs": [
    {
     "name": "stdout",
     "output_type": "stream",
     "text": [
      "Preparing coefficient matrix for year 2015 .....\n",
      "Preparing targets for year 2015 .....\n",
      "Targets for year 2015 are:\n",
      "[ -4.39933940e+07  -4.60343280e+07  -6.74789229e+06  -1.75165084e+07\n",
      "  -5.55079453e+07  -7.46659694e+10  -5.35354286e+10  -1.63319709e+11\n",
      "  -2.25028008e+10  -5.54790797e+10  -3.83281099e+11  -1.07517093e+11\n",
      "  -3.05342427e+10  -2.88818454e+11  -5.90087946e+10  -1.68408211e+10\n",
      "  -7.91613228e+10  -2.02902465e+11  -2.92515851e+11  -3.32654818e+11\n",
      "  -2.99646088e+11  -7.79832495e+11  -6.53555954e+11  -1.02014534e+12\n",
      "  -1.80102121e+11   6.35267419e+10   1.14508866e+11]\n",
      "Adding constraints for year 2015 .....\n",
      "Setting up the LP model for year 2015 .....\n",
      "Solving LP for year 2015 .....\n",
      "DONE solving LP for year 2015\n"
     ]
    }
   ],
   "source": [
    "z[:, 6] = solve_lp_for_year(puf, Stage_I_factors, Stage_II_targets, year='2015', tol=0.51)"
   ]
  },
  {
   "cell_type": "code",
   "execution_count": 36,
   "metadata": {},
   "outputs": [
    {
     "name": "stdout",
     "output_type": "stream",
     "text": [
      "Preparing coefficient matrix for year 2016 .....\n",
      "Preparing targets for year 2016 .....\n",
      "Targets for year 2016 are:\n",
      "[ -4.50347097e+07  -4.71971708e+07  -6.87876703e+06  -1.81014898e+07\n",
      "  -5.79411552e+07  -7.96206812e+10  -5.78114366e+10  -1.69318154e+11\n",
      "  -2.36724815e+10  -6.04924603e+10  -4.04732666e+11  -1.16648918e+11\n",
      "  -3.37457830e+10  -2.98427705e+11  -6.08856225e+10  -1.73263078e+10\n",
      "  -8.12451168e+10  -2.08411495e+11  -3.00352862e+11  -3.41354188e+11\n",
      "  -3.07740674e+11  -7.99924892e+11  -6.71110132e+11  -1.05066406e+12\n",
      "  -1.90385525e+11   6.21530976e+10   1.13142679e+11]\n",
      "Adding constraints for year 2016 .....\n",
      "Setting up the LP model for year 2016 .....\n",
      "Solving LP for year 2016 .....\n",
      "DONE solving LP for year 2016\n"
     ]
    }
   ],
   "source": [
    "z[:, 7] = solve_lp_for_year(puf, Stage_I_factors, Stage_II_targets, year='2016', tol=0.51)"
   ]
  },
  {
   "cell_type": "code",
   "execution_count": 41,
   "metadata": {},
   "outputs": [
    {
     "name": "stdout",
     "output_type": "stream",
     "text": [
      "Preparing coefficient matrix for year 2017 .....\n",
      "Preparing targets for year 2017 .....\n",
      "Targets for year 2017 are:\n",
      "[ -4.61319142e+07  -4.84152720e+07  -7.01937734e+06  -1.86980748e+07\n",
      "  -6.05833866e+07  -8.48652122e+10  -6.23430408e+10  -1.76073977e+11\n",
      "  -2.49741662e+10  -6.59422707e+10  -4.27170763e+11  -1.26823398e+11\n",
      "  -3.72857210e+10  -3.08306303e+11  -6.29455171e+10  -1.78632089e+10\n",
      "  -8.35867268e+10  -2.14605529e+11  -3.09188815e+11  -3.51174142e+11\n",
      "  -3.16903532e+11  -8.22547103e+11  -6.90874473e+11  -1.08525351e+12\n",
      "  -2.02262603e+11   6.04672610e+10   1.11420884e+11]\n",
      "Adding constraints for year 2017 .....\n",
      "Setting up the LP model for year 2017 .....\n",
      "Solving LP for year 2017 .....\n",
      "DONE solving LP for year 2017\n"
     ]
    }
   ],
   "source": [
    "z[:, 8] = solve_lp_for_year(puf, Stage_I_factors, Stage_II_targets, year='2017', tol=0.52)"
   ]
  },
  {
   "cell_type": "code",
   "execution_count": 47,
   "metadata": {},
   "outputs": [
    {
     "name": "stdout",
     "output_type": "stream",
     "text": [
      "Preparing coefficient matrix for year 2018 .....\n",
      "Preparing targets for year 2018 .....\n",
      "Targets for year 2018 are:\n",
      "[ -4.72291964e+07  -4.96460929e+07  -7.15497425e+06  -1.93251656e+07\n",
      "  -6.30199611e+07  -9.01895282e+10  -6.69314961e+10  -1.82332338e+11\n",
      "  -2.62072350e+10  -7.13069079e+10  -4.50246511e+11  -1.36523399e+11\n",
      "  -4.06742518e+10  -3.18629496e+11  -6.49115722e+10  -1.83696487e+10\n",
      "  -8.57429651e+10  -2.20309017e+11  -3.17291358e+11  -3.60159003e+11\n",
      "  -3.25261168e+11  -8.43311907e+11  -7.09034101e+11  -1.11681980e+12\n",
      "  -2.12926898e+11   5.90209431e+10   1.09965049e+11]\n",
      "Adding constraints for year 2018 .....\n",
      "Setting up the LP model for year 2018 .....\n",
      "Solving LP for year 2018 .....\n",
      "DONE solving LP for year 2018\n"
     ]
    }
   ],
   "source": [
    "z[:, 9] = solve_lp_for_year(puf, Stage_I_factors, Stage_II_targets, year='2018', tol=0.52)"
   ]
  },
  {
   "cell_type": "code",
   "execution_count": 52,
   "metadata": {},
   "outputs": [
    {
     "name": "stdout",
     "output_type": "stream",
     "text": [
      "Preparing coefficient matrix for year 2019 .....\n",
      "Preparing targets for year 2019 .....\n",
      "Targets for year 2019 are:\n",
      "[ -4.83105433e+07  -5.08756449e+07  -7.28201100e+06  -1.99814058e+07\n",
      "  -6.51639560e+07  -9.55021303e+10  -7.15217628e+10  -1.87823011e+11\n",
      "  -2.73255239e+10  -7.64285232e+10  -4.73749613e+11  -1.45269097e+11\n",
      "  -4.37889085e+10  -3.29448414e+11  -6.66148865e+10  -1.88274850e+10\n",
      "  -8.76182254e+10  -2.25268477e+11  -3.24288290e+11  -3.67889270e+11\n",
      "  -3.32412905e+11  -8.61275396e+11  -7.24767956e+11  -1.14384687e+12\n",
      "  -2.21787901e+11   5.79268027e+10   1.08901076e+11]\n",
      "Adding constraints for year 2019 .....\n",
      "Setting up the LP model for year 2019 .....\n",
      "Solving LP for year 2019 .....\n",
      "DONE solving LP for year 2019\n"
     ]
    }
   ],
   "source": [
    "z[:, 10] = solve_lp_for_year(puf, Stage_I_factors, Stage_II_targets, year='2019', tol=0.53)"
   ]
  },
  {
   "cell_type": "code",
   "execution_count": 7,
   "metadata": {},
   "outputs": [
    {
     "name": "stdout",
     "output_type": "stream",
     "text": [
      "Preparing coefficient matrix for year 2020 .....\n",
      "Preparing targets for year 2020 .....\n",
      "Targets for year 2020 are:\n",
      "[ -4.73312421e+07  -5.21861274e+07  -7.79917777e+06  -2.42494841e+07\n",
      "  -6.75230397e+07  -1.08988942e+11  -8.56793846e+10  -1.93019644e+11\n",
      "  -2.61614222e+10  -8.44814774e+10  -5.24400288e+11  -1.54610955e+11\n",
      "  -4.32057865e+10  -4.04200040e+11  -6.67073401e+10  -1.97295254e+10\n",
      "  -8.54396681e+10  -2.22102694e+11  -3.21950302e+11  -3.62731720e+11\n",
      "  -3.31424381e+11  -8.53180405e+11  -7.12676399e+11  -1.12011591e+12\n",
      "  -1.92220619e+11   5.86162949e+10   1.08546200e+11]\n",
      "Adding constraints for year 2020 .....\n",
      "Setting up the LP model for year 2020 .....\n",
      "Solving LP for year 2020 .....\n",
      "DONE solving LP for year 2020\n"
     ]
    }
   ],
   "source": [
    "z[:, 11] = solve_lp_for_year(puf, Stage_I_factors, Stage_II_targets, year='2020', tol=0.53)"
   ]
  },
  {
   "cell_type": "code",
   "execution_count": 8,
   "metadata": {},
   "outputs": [
    {
     "name": "stdout",
     "output_type": "stream",
     "text": [
      "Preparing coefficient matrix for year 2021 .....\n",
      "Preparing targets for year 2021 .....\n",
      "Targets for year 2021 are:\n",
      "[ -4.84260051e+07  -5.34492630e+07  -7.93175874e+06  -2.50482099e+07\n",
      "  -6.94745640e+07  -1.14684858e+11  -9.06486526e+10  -1.98104536e+11\n",
      "  -2.71965784e+10  -8.96414298e+10  -5.49509107e+11  -1.63005099e+11\n",
      "  -4.60920473e+10  -4.17488490e+11  -6.82551192e+10  -2.01644146e+10\n",
      "  -8.70956720e+10  -2.26492869e+11  -3.28082783e+11  -3.69457739e+11\n",
      "  -3.37737294e+11  -8.69071366e+11  -7.26722529e+11  -1.14382164e+12\n",
      "  -1.99451604e+11   5.77870596e+10   1.07757370e+11]\n",
      "Adding constraints for year 2021 .....\n",
      "Setting up the LP model for year 2021 .....\n",
      "Solving LP for year 2021 .....\n",
      "DONE solving LP for year 2021\n"
     ]
    }
   ],
   "source": [
    "z[:, 12] = solve_lp_for_year(puf, Stage_I_factors, Stage_II_targets, year='2021', tol=0.53)"
   ]
  },
  {
   "cell_type": "code",
   "execution_count": 9,
   "metadata": {},
   "outputs": [
    {
     "name": "stdout",
     "output_type": "stream",
     "text": [
      "Preparing coefficient matrix for year 2022 .....\n",
      "Preparing targets for year 2022 .....\n",
      "Targets for year 2022 are:\n",
      "[ -4.95399274e+07  -5.47394792e+07  -8.06277468e+06  -2.58775519e+07\n",
      "  -7.12317114e+07  -1.20576883e+11  -9.57919012e+10  -2.03051530e+11\n",
      "  -2.82297115e+10  -9.49048670e+10  -5.75562832e+11  -1.71334547e+11\n",
      "  -4.89878544e+10  -4.31318068e+11  -6.97725672e+10  -2.05937286e+10\n",
      "  -8.87001718e+10  -2.30746489e+11  -3.33995831e+11  -3.75927632e+11\n",
      "  -3.43806995e+11  -8.84411556e+11  -7.40326931e+11  -1.16668454e+12\n",
      "  -2.06381397e+11   5.69993645e+10   1.07000320e+11]\n",
      "Adding constraints for year 2022 .....\n",
      "Setting up the LP model for year 2022 .....\n",
      "Solving LP for year 2022 .....\n",
      "DONE solving LP for year 2022\n"
     ]
    }
   ],
   "source": [
    "z[:, 13] = solve_lp_for_year(puf, Stage_I_factors, Stage_II_targets, year='2022', tol=0.54)"
   ]
  },
  {
   "cell_type": "code",
   "execution_count": 10,
   "metadata": {},
   "outputs": [
    {
     "name": "stdout",
     "output_type": "stream",
     "text": [
      "Preparing coefficient matrix for year 2023 .....\n",
      "Preparing targets for year 2023 .....\n",
      "Targets for year 2023 are:\n",
      "[ -5.06404165e+07  -5.60142285e+07  -8.19245804e+06  -2.66925889e+07\n",
      "  -7.30174169e+07  -1.26409147e+11  -1.00859777e+11  -2.07993345e+11\n",
      "  -2.92576196e+10  -1.00109973e+11  -6.01256814e+11  -1.79661862e+11\n",
      "  -5.18796905e+10  -4.44937126e+11  -7.12887118e+10  -2.10227192e+10\n",
      "  -9.03114788e+10  -2.35018198e+11  -3.39941746e+11  -3.82437640e+11\n",
      "  -3.49915183e+11  -8.99831959e+11  -7.53990486e+11  -1.18967413e+12\n",
      "  -2.13362982e+11   5.62031456e+10   1.06236778e+11]\n",
      "Adding constraints for year 2023 .....\n",
      "Setting up the LP model for year 2023 .....\n",
      "Solving LP for year 2023 .....\n",
      "DONE solving LP for year 2023\n"
     ]
    }
   ],
   "source": [
    "z[:, 14] = solve_lp_for_year(puf, Stage_I_factors, Stage_II_targets, year='2023', tol=0.54)\n"
   ]
  },
  {
   "cell_type": "code",
   "execution_count": 11,
   "metadata": {},
   "outputs": [
    {
     "name": "stdout",
     "output_type": "stream",
     "text": [
      "Preparing coefficient matrix for year 2024 .....\n",
      "Preparing targets for year 2024 .....\n",
      "Targets for year 2024 are:\n",
      "[ -5.17306428e+07  -5.72741628e+07  -8.32301676e+06  -2.74935752e+07\n",
      "  -7.48619950e+07  -1.32132055e+11  -1.05857900e+11  -2.13018971e+11\n",
      "  -3.02893800e+10  -1.05286808e+11  -6.26544936e+11  -1.87977772e+11\n",
      "  -5.47833015e+10  -4.58268816e+11  -7.28370828e+10  -2.14534701e+10\n",
      "  -9.19436306e+10  -2.39345800e+11  -3.45978861e+11  -3.89054274e+11\n",
      "  -3.56126182e+11  -9.15476801e+11  -7.67835063e+11  -1.21303114e+12\n",
      "  -2.20500607e+11   5.53739658e+10   1.05438370e+11]\n",
      "Adding constraints for year 2024 .....\n",
      "Setting up the LP model for year 2024 .....\n",
      "Solving LP for year 2024 .....\n",
      "DONE solving LP for year 2024\n"
     ]
    }
   ],
   "source": [
    "z[:, 15] = solve_lp_for_year(puf, Stage_I_factors, Stage_II_targets, year='2024', tol=0.54)\n"
   ]
  },
  {
   "cell_type": "code",
   "execution_count": 12,
   "metadata": {},
   "outputs": [
    {
     "name": "stdout",
     "output_type": "stream",
     "text": [
      "Preparing coefficient matrix for year 2025 .....\n",
      "Preparing targets for year 2025 .....\n",
      "Targets for year 2025 are:\n",
      "[ -5.28515566e+07  -5.85721109e+07  -8.45544443e+06  -2.83255437e+07\n",
      "  -7.67230237e+07  -1.38105154e+11  -1.11077593e+11  -2.18199533e+11\n",
      "  -3.13652634e+10  -1.10688055e+11  -6.52875647e+11  -1.96686379e+11\n",
      "  -5.77922214e+10  -4.72134579e+11  -7.44133301e+10  -2.18978423e+10\n",
      "  -9.36223953e+10  -2.43799855e+11  -3.52186371e+11  -3.95852265e+11\n",
      "  -3.62513437e+11  -9.31549948e+11  -7.82083102e+11  -1.23712786e+12\n",
      "  -2.27963690e+11   5.44544117e+10   1.04519876e+11]\n",
      "Adding constraints for year 2025 .....\n",
      "Setting up the LP model for year 2025 .....\n",
      "Solving LP for year 2025 .....\n",
      "DONE solving LP for year 2025\n"
     ]
    }
   ],
   "source": [
    "z[:, 16] = solve_lp_for_year(puf, Stage_I_factors, Stage_II_targets, year='2025', tol=0.55)\n"
   ]
  },
  {
   "cell_type": "code",
   "execution_count": 13,
   "metadata": {},
   "outputs": [
    {
     "name": "stdout",
     "output_type": "stream",
     "text": [
      "Preparing coefficient matrix for year 2026 .....\n",
      "Preparing targets for year 2026 .....\n",
      "Targets for year 2026 are:\n",
      "[ -5.39318393e+07  -5.98185870e+07  -8.58645421e+06  -2.91092623e+07\n",
      "  -7.86152779e+07  -1.43790178e+11  -1.16038384e+11  -2.23355862e+11\n",
      "  -3.24164315e+10  -1.15887045e+11  -6.77829253e+11  -2.05190120e+11\n",
      "  -6.07460913e+10  -4.85193363e+11  -7.59890172e+10  -2.23363372e+10\n",
      "  -9.53039507e+10  -2.48261000e+11  -3.58427776e+11  -4.02700594e+11\n",
      "  -3.68949561e+11  -9.47697897e+11  -7.96357876e+11  -1.26134226e+12\n",
      "  -2.35487457e+11   5.35280747e+10   1.03604983e+11]\n",
      "Adding constraints for year 2026 .....\n",
      "Setting up the LP model for year 2026 .....\n",
      "Solving LP for year 2026 .....\n",
      "DONE solving LP for year 2026\n"
     ]
    }
   ],
   "source": [
    "z[:, 17] = solve_lp_for_year(puf, Stage_I_factors, Stage_II_targets, year='2026', tol=0.55)"
   ]
  },
  {
   "cell_type": "code",
   "execution_count": 23,
   "metadata": {
    "collapsed": true
   },
   "outputs": [],
   "source": [
    "z = df(z, columns=['WT2009','WT2010','WT2011','WT2012','WT2013','WT2014',\n",
    "                   'WT2015','WT2016','WT2017','WT2018','WT2019','WT2020','WT2021',\n",
    "                   'WT2022','WT2023','WT2024', 'WT2025', 'WT2026'])\n",
    "z = z.round(0).astype('int64')\n",
    "z.to_csv('puf_weights.csv', index = False)"
   ]
  },
  {
   "cell_type": "code",
   "execution_count": null,
   "metadata": {
    "collapsed": true
   },
   "outputs": [],
   "source": []
  }
 ],
 "metadata": {
  "anaconda-cloud": {},
  "kernelspec": {
   "display_name": "Python 2",
   "language": "python",
   "name": "python2"
  },
  "language_info": {
   "codemirror_mode": {
    "name": "ipython",
    "version": 2
   },
   "file_extension": ".py",
   "mimetype": "text/x-python",
   "name": "python",
   "nbconvert_exporter": "python",
   "pygments_lexer": "ipython2",
   "version": "2.7.13"
  }
 },
 "nbformat": 4,
 "nbformat_minor": 1
}
